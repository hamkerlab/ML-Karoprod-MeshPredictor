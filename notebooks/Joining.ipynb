{
 "cells": [
  {
   "cell_type": "code",
   "execution_count": 1,
   "metadata": {},
   "outputs": [],
   "source": [
    "import numpy as np\n",
    "import pandas as pd\n",
    "import matplotlib.pyplot as plt\n",
    "plt.rcParams['figure.dpi'] = 120\n",
    "\n",
    "from mesh_predictor import DoubleProjectionPredictor"
   ]
  },
  {
   "cell_type": "code",
   "execution_count": null,
   "metadata": {},
   "outputs": [],
   "source": [
    "doe_single = pd.read_csv('../data/doe.csv')"
   ]
  },
  {
   "cell_type": "code",
   "execution_count": null,
   "metadata": {},
   "outputs": [],
   "source": [
    "doe_joining = pd.read_csv('../data/doe_joining.csv')"
   ]
  },
  {
   "cell_type": "code",
   "execution_count": null,
   "metadata": {},
   "outputs": [],
   "source": [
    "data = pd.read_csv('../data/joining.csv')"
   ]
  },
  {
   "cell_type": "code",
   "execution_count": null,
   "metadata": {},
   "outputs": [],
   "source": [
    "reg = DoubleProjectionPredictor()\n",
    "\n",
    "reg.load_data(\n",
    "    doe_joining=doe_joining, \n",
    "    doe_single=doe_single, \n",
    "    data=data, \n",
    "    process_parameters_joining = [\n",
    "        'Spanner_1',\n",
    "        'Spanner_2',\n",
    "        'Spanner_3',\n",
    "        'Spanner_4',\n",
    "        'Oberblech_MID',\n",
    "        'Unterblech_MID',\n",
    "    ], \n",
    "    process_parameters_single = [\n",
    "        'Blechdicke', \n",
    "        'Niederhalterkraft', \n",
    "        'Ziehspalt', \n",
    "        'Einlegeposition', \n",
    "        'Ziehtiefe',\n",
    "        'Rp0',\n",
    "    ], \n",
    "    position = ['u', 'v'], \n",
    "    output = ['x', 'y', 'z'], \n",
    "    categorical_joining=[\n",
    "    ], \n",
    "    categorical_single= [\n",
    "        'Ziehspalt', \n",
    "        'Ziehtiefe',\n",
    "    ], \n",
    "    index_joining='doe_id', \n",
    "    index_single='doe_id', \n",
    "    part_index='pos', \n",
    "    top_bottom=['Oberblech_ID', 'Unterblech_ID'],\n",
    "    validation_split=0.1, \n",
    "    validation_method=\"random\"\n",
    "\n",
    ")\n",
    "reg.save_config(\"../models/joining_xyz.pkl\")\n",
    "reg.data_summary()"
   ]
  },
  {
   "cell_type": "code",
   "execution_count": null,
   "metadata": {},
   "outputs": [],
   "source": [
    "config = {\n",
    "    'batch_size': 2048*16,\n",
    "    'max_epochs': 50,\n",
    "    'layers': [256, 256, 256, 256, 256],\n",
    "    'dropout': 0.0,\n",
    "    'learning_rate': 0.001,\n",
    "    'activation': 'lrelu'\n",
    "}\n",
    "\n",
    "reg.custom_model(save_path='../models/best_joining_model', config=config, verbose=True)\n",
    "reg.training_summary()"
   ]
  },
  {
   "cell_type": "code",
   "execution_count": null,
   "metadata": {},
   "outputs": [],
   "source": [
    "reg.load_network('../models/best_joining_xyz_model')"
   ]
  },
  {
   "cell_type": "code",
   "execution_count": null,
   "metadata": {},
   "outputs": [],
   "source": [
    "idx = np.random.choice(data['doe_id'].unique()) \n",
    "print(\"Doe_ID\", idx)\n",
    "reg.compare(idx)"
   ]
  },
  {
   "cell_type": "code",
   "execution_count": null,
   "metadata": {},
   "outputs": [],
   "source": [
    "idx = np.random.choice(data['doe_id'].unique()) \n",
    "print(\"Doe_ID\", idx)\n",
    "reg.compare_xyz(idx)"
   ]
  }
 ],
 "metadata": {
  "kernelspec": {
   "display_name": "Python 3.9.9 ('tf')",
   "language": "python",
   "name": "python3"
  },
  "language_info": {
   "codemirror_mode": {
    "name": "ipython",
    "version": 3
   },
   "file_extension": ".py",
   "mimetype": "text/x-python",
   "name": "python",
   "nbconvert_exporter": "python",
   "pygments_lexer": "ipython3",
   "version": "3.9.9"
  },
  "orig_nbformat": 4,
  "vscode": {
   "interpreter": {
    "hash": "0623a8ec4bd597eab065752ed1de30aa39c6d40efdfbc7bcfd7fe40f99c37f5e"
   }
  }
 },
 "nbformat": 4,
 "nbformat_minor": 2
}
